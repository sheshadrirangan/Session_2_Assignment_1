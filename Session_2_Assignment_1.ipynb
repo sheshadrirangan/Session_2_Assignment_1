{
 "cells": [
  {
   "cell_type": "markdown",
   "metadata": {},
   "source": [
    "# Session_2_Assignment_1"
   ]
  },
  {
   "cell_type": "markdown",
   "metadata": {},
   "source": [
    "1.  Write a program which accepts a sequence of comma-separated numbers from console and generate a list. "
   ]
  },
  {
   "cell_type": "code",
   "execution_count": 1,
   "metadata": {},
   "outputs": [
    {
     "name": "stdout",
     "output_type": "stream",
     "text": [
      "Please insert numbers by comma-seperated: 1,2,3,4,5\n",
      "['1', '2', '3', '4', '5']\n"
     ]
    }
   ],
   "source": [
    "s = input(\"Please insert numbers by comma-seperated: \")\n",
    "l = s.split(',')\n",
    "\n",
    "print(l)"
   ]
  },
  {
   "cell_type": "markdown",
   "metadata": {},
   "source": [
    "2.  Create the below pattern using nested for loop in Python. "
   ]
  },
  {
   "cell_type": "code",
   "execution_count": 2,
   "metadata": {},
   "outputs": [
    {
     "name": "stdout",
     "output_type": "stream",
     "text": [
      "*\n",
      "**\n",
      "***\n",
      "****\n",
      "*****\n",
      "****\n",
      "***\n",
      "**\n",
      "*\n"
     ]
    }
   ],
   "source": [
    "def Shape(num):\n",
    "    for r in range(num):\n",
    "        if r < num/2:\n",
    "            f = range(r)\n",
    "        else:\n",
    "            f = range(num-1,r,-1)\n",
    "            \n",
    "        for st1 in f:\n",
    "            print(\"*\", end=\"\")\n",
    "\n",
    "        print(\"*\")\n",
    "    return\n",
    "\n",
    "Shape(9)"
   ]
  },
  {
   "cell_type": "markdown",
   "metadata": {},
   "source": [
    "3.  Write a Python program to reverse a word after accepting the input from the user. \n",
    " \n",
    "Sample Output: \n",
    " \n",
    "Input word: AcadGild \n",
    " \n",
    "Output: dilGdacA "
   ]
  },
  {
   "cell_type": "code",
   "execution_count": 3,
   "metadata": {},
   "outputs": [
    {
     "name": "stdout",
     "output_type": "stream",
     "text": [
      "Input string to reverse: AcadGild\n"
     ]
    },
    {
     "data": {
      "text/plain": [
       "'dliGdacA'"
      ]
     },
     "execution_count": 3,
     "metadata": {},
     "output_type": "execute_result"
    }
   ],
   "source": [
    "s = input(\"Input string to reverse: \")\n",
    "s[::-1]"
   ]
  },
  {
   "cell_type": "markdown",
   "metadata": {},
   "source": [
    "4.  Write a Python Program to print the given string in the format specified in the ​sample output. \n",
    " \n",
    "WE, THE PEOPLE OF INDIA, having solemnly resolved to constitute India into a SOVEREIGN, SOCIALIST, SECULAR, DEMOCRATIC REPUBLIC and to secure to all its citizens "
   ]
  },
  {
   "cell_type": "code",
   "execution_count": 4,
   "metadata": {},
   "outputs": [
    {
     "name": "stdout",
     "output_type": "stream",
     "text": [
      "WE, THE PEOPLE OF INDIA, \n",
      "\thaving solemnly resolved to constitute India into a SOVEREIGN, !\n",
      "\t\tSOCIALIST, SECULAR, DEMOCRATIC REPUBLIC\n",
      "\t\t and to secure to all its citizens\n"
     ]
    }
   ],
   "source": [
    "print(\"WE, THE PEOPLE OF INDIA, \\n\\thaving solemnly resolved to constitute India into a SOVEREIGN, !\\n\\t\\tSOCIALIST, SECULAR, DEMOCRATIC REPUBLIC\\n\\t\\t and to secure to all its citizens\")"
   ]
  }
 ],
 "metadata": {
  "kernelspec": {
   "display_name": "Python 3",
   "language": "python",
   "name": "python3"
  },
  "language_info": {
   "codemirror_mode": {
    "name": "ipython",
    "version": 3
   },
   "file_extension": ".py",
   "mimetype": "text/x-python",
   "name": "python",
   "nbconvert_exporter": "python",
   "pygments_lexer": "ipython3",
   "version": "3.7.0"
  }
 },
 "nbformat": 4,
 "nbformat_minor": 2
}
